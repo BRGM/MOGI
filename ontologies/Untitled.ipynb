{
 "cells": [
  {
   "cell_type": "code",
   "execution_count": null,
   "id": "77fcd638",
   "metadata": {},
   "outputs": [],
   "source": [
    "import owlready2 as owl\n",
    "from owlready2 import*"
   ]
  },
  {
   "cell_type": "code",
   "execution_count": null,
   "id": "ad77603d",
   "metadata": {},
   "outputs": [],
   "source": [
    "# mogowl/xml ont = get_ontology('mogi.owl').load()\n",
    "# mogirdf ont = get_ontology('mogi_rdf.owl').load()\n",
    "#mogiowl ont = get_ontology('mogiowl_new.owl').load()"
   ]
  },
  {
   "cell_type": "code",
   "execution_count": null,
   "id": "03a95fec",
   "metadata": {},
   "outputs": [],
   "source": [
    "list(ont.classes())\n",
    "list(ont.object_properties())\n",
    "list(ont.data_properties())\n",
    "list(ont.individuals())"
   ]
  },
  {
   "cell_type": "code",
   "execution_count": null,
   "id": "36b4cc44",
   "metadata": {},
   "outputs": [],
   "source": [
    "print(ont.ax_suf1.is_Structural_Parameter_Of)\n",
    "print(ont.chv_f1.has_Structural_Parameter)\n",
    "print(ont.strati_test.is_instance_of)"
   ]
  },
  {
   "cell_type": "code",
   "execution_count": null,
   "id": "2e4974ed",
   "metadata": {},
   "outputs": [],
   "source": [
    "sync_reasoner(infer_property_values=True)"
   ]
  },
  {
   "cell_type": "code",
   "execution_count": null,
   "id": "8e2a967c",
   "metadata": {},
   "outputs": [],
   "source": [
    "print(ont.ax_suf1.is_Structural_Parameter_Of)\n",
    "print(ont.chv_f1.has_Structural_Parameter)\n",
    "print(ont.strati_test.is_instance_of)"
   ]
  },
  {
   "cell_type": "code",
   "execution_count": null,
   "id": "cdb4631a",
   "metadata": {},
   "outputs": [],
   "source": []
  },
  {
   "cell_type": "code",
   "execution_count": null,
   "id": "ce19e056",
   "metadata": {},
   "outputs": [],
   "source": [
    "print(ont.Stratigraphic_Part.is_a)\n",
    "print('\\n')\n",
    "print(ont.Stratigraphic_Part.has_Possible_Explanation)\n",
    "print('\\n')\n",
    "print(ont.Stratigraphic_Part.instances())\n",
    "print('\\n')\n",
    "print(ont.sp1.is_instance_of)"
   ]
  }
 ],
 "metadata": {
  "language_info": {
   "name": "python",
   "pygments_lexer": "ipython3"
  }
 },
 "nbformat": 4,
 "nbformat_minor": 5
}
