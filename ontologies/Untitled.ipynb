{
 "cells": [
  {
   "cell_type": "code",
   "execution_count": null,
   "id": "77fcd638",
   "metadata": {},
   "outputs": [],
   "source": [
    "import owlready2 as owl\n",
    "from owlready2 import*"
   ]
  },
  {
   "cell_type": "code",
   "execution_count": null,
   "id": "ad77603d",
   "metadata": {},
   "outputs": [],
   "source": [
    "ont = get_ontology('mogi.owl').load()"
   ]
  },
  {
   "cell_type": "code",
   "execution_count": null,
   "id": "54c69691",
   "metadata": {},
   "outputs": [],
   "source": [
    "list(ont.classes())"
   ]
  },
  {
   "cell_type": "code",
   "execution_count": null,
   "id": "03a95fec",
   "metadata": {},
   "outputs": [],
   "source": [
    "list(ont.object_properties())"
   ]
  },
  {
   "cell_type": "code",
   "execution_count": null,
   "id": "0e810d6b",
   "metadata": {},
   "outputs": [],
   "source": [
    "\n"
   ]
  },
  {
   "cell_type": "code",
   "execution_count": null,
   "id": "22b09b60",
   "metadata": {},
   "outputs": [],
   "source": [
    "print(ont.Stratigraphic_Part.is_a)\n",
    "print('\\n')\n",
    "print(ont.Stratigraphic_Part.has_Possible_Explanation)\n",
    "print('\\n')\n",
    "print(ont.Stratigraphic_Part.instances())\n",
    "print('\\n')\n",
    "print(ont.sp1.is_instance_of)"
   ]
  },
  {
   "cell_type": "code",
   "execution_count": null,
   "id": "5e3b3126",
   "metadata": {},
   "outputs": [],
   "source": [
    "ont.Stratigraphic_Surface.is_Possible_Explanation_Of"
   ]
  },
  {
   "cell_type": "code",
   "execution_count": null,
   "id": "2e4974ed",
   "metadata": {},
   "outputs": [],
   "source": [
    "sync_reasoner(infer_property_values=True)"
   ]
  },
  {
   "cell_type": "code",
   "execution_count": null,
   "id": "ed91601e",
   "metadata": {},
   "outputs": [],
   "source": [
    "ont.Stratigraphic_Surface.is_Possible_Explanation_Of"
   ]
  },
  {
   "cell_type": "code",
   "execution_count": null,
   "id": "8e2a967c",
   "metadata": {},
   "outputs": [],
   "source": []
  },
  {
   "cell_type": "code",
   "execution_count": null,
   "id": "5cc7ad05",
   "metadata": {},
   "outputs": [],
   "source": []
  }
 ],
 "metadata": {
  "language_info": {
   "name": "python",
   "pygments_lexer": "ipython3"
  }
 },
 "nbformat": 4,
 "nbformat_minor": 5
}
